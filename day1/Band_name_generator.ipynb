{
 "cells": [
  {
   "cell_type": "code",
   "execution_count": 6,
   "id": "aa78c646",
   "metadata": {},
   "outputs": [
    {
     "name": "stdout",
     "output_type": "stream",
     "text": [
      "Welcome to the band name generator.\n",
      "whats the city you grew up in?\n",
      "> hydi\n",
      "What's your pet name?\n",
      "> ozz\n",
      "Your band name could be hydi ozz.\n"
     ]
    }
   ],
   "source": [
    "#band name generator\n",
    "\n",
    "print(\"Welcome to the band name generator.\")\n",
    "\n",
    "#initializing variables.\n",
    "city = \"\"\n",
    "pet_name = \"\"\n",
    "\n",
    "\n",
    "# simple check to make sure the user has entered something\n",
    "while True:\n",
    "    print(\"whats the city you grew up in?\")\n",
    "    city= input(\"> \")\n",
    "    #if there is no input\n",
    "    if city == \"\":\n",
    "        print(\"You haven't enter anything, Please try again.\")\n",
    "    else:\n",
    "        break\n",
    "#do same for the pet name\n",
    "while True:\n",
    "    print(\"What's your pet name?\")\n",
    "    pet_name = input(\"> \")\n",
    "    #if there is no input\n",
    "    if pet_name == \"\":\n",
    "        print(\"You haven't enter anything, Please try again.\")\n",
    "    else:\n",
    "        break\n",
    "\n",
    "print(f\"Your band name could be {city} {pet_name}.\")"
   ]
  },
  {
   "cell_type": "code",
   "execution_count": null,
   "id": "69defa66",
   "metadata": {},
   "outputs": [],
   "source": []
  },
  {
   "cell_type": "code",
   "execution_count": null,
   "id": "2911231c",
   "metadata": {},
   "outputs": [],
   "source": []
  }
 ],
 "metadata": {
  "kernelspec": {
   "display_name": "Python 3 (ipykernel)",
   "language": "python",
   "name": "python3"
  },
  "language_info": {
   "codemirror_mode": {
    "name": "ipython",
    "version": 3
   },
   "file_extension": ".py",
   "mimetype": "text/x-python",
   "name": "python",
   "nbconvert_exporter": "python",
   "pygments_lexer": "ipython3",
   "version": "3.10.9"
  }
 },
 "nbformat": 4,
 "nbformat_minor": 5
}
