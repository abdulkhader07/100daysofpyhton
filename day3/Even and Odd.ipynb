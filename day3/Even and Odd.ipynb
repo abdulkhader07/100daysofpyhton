{
 "cells": [
  {
   "cell_type": "code",
   "execution_count": null,
   "id": "bffe13ad",
   "metadata": {},
   "outputs": [],
   "source": [
    "#Even and Odd"
   ]
  },
  {
   "cell_type": "code",
   "execution_count": 16,
   "id": "0dc60c39",
   "metadata": {},
   "outputs": [
    {
     "name": "stdout",
     "output_type": "stream",
     "text": [
      "Odd and Even Checker!\n",
      "please enter a number :20\n",
      "the number is even\n"
     ]
    }
   ],
   "source": [
    "print(\"Odd and Even Checker!\")\n",
    "\n",
    "Check = int(input(\"please enter a number :\"))\n",
    "\n",
    "if Check % 2==0:\n",
    "    print(\"the number is even\")\n",
    "else:\n",
    "    print(\"the number is odd\")"
   ]
  },
  {
   "cell_type": "code",
   "execution_count": null,
   "id": "a5e00e92",
   "metadata": {},
   "outputs": [],
   "source": []
  },
  {
   "cell_type": "code",
   "execution_count": null,
   "id": "7453295d",
   "metadata": {},
   "outputs": [],
   "source": []
  }
 ],
 "metadata": {
  "kernelspec": {
   "display_name": "Python 3 (ipykernel)",
   "language": "python",
   "name": "python3"
  },
  "language_info": {
   "codemirror_mode": {
    "name": "ipython",
    "version": 3
   },
   "file_extension": ".py",
   "mimetype": "text/x-python",
   "name": "python",
   "nbconvert_exporter": "python",
   "pygments_lexer": "ipython3",
   "version": "3.11.3"
  }
 },
 "nbformat": 4,
 "nbformat_minor": 5
}
