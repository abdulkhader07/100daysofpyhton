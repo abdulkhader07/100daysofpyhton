{
 "cells": [
  {
   "cell_type": "code",
   "execution_count": 1,
   "id": "9a48dc4b",
   "metadata": {},
   "outputs": [],
   "source": [
    "#pizza order"
   ]
  },
  {
   "cell_type": "code",
   "execution_count": 8,
   "id": "0b5d51bf",
   "metadata": {},
   "outputs": [
    {
     "name": "stdout",
     "output_type": "stream",
     "text": [
      "Welcome to python pizza deliveries!\n",
      "What size pizza do you want? S, M, or L M\n",
      "Do you want pepperoni? Y or N Y\n",
      "Do you want extra cheese? Y or N N\n",
      "Your final bill is $23\n"
     ]
    }
   ],
   "source": [
    "print(\"Welcome to python pizza deliveries!\")\n",
    "size = input(\"What size pizza do you want? S, M, or L \")\n",
    "add_pepperoni = input(\"Do you want pepperoni? Y or N \")\n",
    "extra_cheese = input(\"Do you want extra cheese? Y or N \")\n",
    "\n",
    "Bill=0\n",
    "\n",
    "if size == \"S\":\n",
    "    Bill += 15\n",
    "    print(\"Small Pizza : $15\")\n",
    "    \n",
    "elif size == \"M\":\n",
    "    Bill += 20\n",
    "\n",
    "elif size ==\"L\":\n",
    "    Bill += 25\n",
    "\n",
    "if add_pepperoni == \"Y\":\n",
    "    if size  == \"s\":\n",
    "        Bill += 2\n",
    "    else:\n",
    "        Bill += 3\n",
    "        \n",
    "if extra_cheese == \"Y\":\n",
    "    Bill += 1\n",
    "\n",
    "print(f\"Your final bill is ${Bill}\")\n",
    "    "
   ]
  },
  {
   "cell_type": "code",
   "execution_count": null,
   "id": "43fa9524",
   "metadata": {},
   "outputs": [],
   "source": []
  }
 ],
 "metadata": {
  "kernelspec": {
   "display_name": "Python 3 (ipykernel)",
   "language": "python",
   "name": "python3"
  },
  "language_info": {
   "codemirror_mode": {
    "name": "ipython",
    "version": 3
   },
   "file_extension": ".py",
   "mimetype": "text/x-python",
   "name": "python",
   "nbconvert_exporter": "python",
   "pygments_lexer": "ipython3",
   "version": "3.11.3"
  }
 },
 "nbformat": 4,
 "nbformat_minor": 5
}
