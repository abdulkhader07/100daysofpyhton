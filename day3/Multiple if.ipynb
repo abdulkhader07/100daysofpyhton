{
 "cells": [
  {
   "cell_type": "code",
   "execution_count": 7,
   "id": "d6ca7607",
   "metadata": {},
   "outputs": [],
   "source": [
    "#multiple if statements"
   ]
  },
  {
   "cell_type": "code",
   "execution_count": 6,
   "id": "2a6eb181",
   "metadata": {},
   "outputs": [
    {
     "name": "stdout",
     "output_type": "stream",
     "text": [
      "Welcome to the rollercoster!\n",
      "What is your height in cm?190\n",
      "You can ride the rollercoaster!\n",
      "What is your age? 21\n",
      "Adult ticket are : 12$\n",
      "Do you need a photo taken? Y or N.N\n",
      "your final bill is 12\n"
     ]
    }
   ],
   "source": [
    "print(\"Welcome to the rollercoster!\")\n",
    "height = int(input(\"What is your height in cm?\"))\n",
    "bill=0 \n",
    "\n",
    "\n",
    "if height >= 120:\n",
    "    print(\"You can ride the rollercoaster!\")\n",
    "    age = int(input(\"What is your age? \"))\n",
    "    if age <12:\n",
    "        bill = 5\n",
    "        print(\"Child ticket are : 5$\")\n",
    "    elif age <= 18:\n",
    "        bill = 7\n",
    "        print(\"youth ticket are : 7$\")\n",
    "    else:\n",
    "        bill = 12\n",
    "        print(\"Adult ticket are : 12$\")\n",
    "        \n",
    "    wants_photo = input(\"Do you need a photo taken? Y or N.\")\n",
    "    if wants_photo == \"Y\":\n",
    "        bill += 3\n",
    "    print(f\"your final bill is {bill}\")\n",
    "else:\n",
    "    print(\"Sorry , you have to grow taller before you can ride.\")"
   ]
  },
  {
   "cell_type": "code",
   "execution_count": null,
   "id": "6a3106d2",
   "metadata": {},
   "outputs": [],
   "source": []
  }
 ],
 "metadata": {
  "kernelspec": {
   "display_name": "Python 3 (ipykernel)",
   "language": "python",
   "name": "python3"
  },
  "language_info": {
   "codemirror_mode": {
    "name": "ipython",
    "version": 3
   },
   "file_extension": ".py",
   "mimetype": "text/x-python",
   "name": "python",
   "nbconvert_exporter": "python",
   "pygments_lexer": "ipython3",
   "version": "3.11.3"
  }
 },
 "nbformat": 4,
 "nbformat_minor": 5
}
