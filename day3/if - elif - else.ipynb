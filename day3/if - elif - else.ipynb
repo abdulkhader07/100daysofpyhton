{
 "cells": [
  {
   "cell_type": "code",
   "execution_count": 2,
   "id": "7060cf24",
   "metadata": {},
   "outputs": [],
   "source": [
    "# if Condition:\n",
    "#     do A\n",
    "# elif Another Condition:\n",
    "#     do B\n",
    "# else:\n",
    "#     do this\n",
    "    "
   ]
  },
  {
   "cell_type": "code",
   "execution_count": null,
   "id": "0030788e",
   "metadata": {},
   "outputs": [],
   "source": [
    "print(\"Welcome to the Rollercoster!\")\n",
    "height = int(input(\"Plese enter your Height : \"))\n",
    "\n",
    "if height >= 120 :\n",
    "    print(\"Your are eligible for this ride\")\n",
    "    age = int(input(\"please enter your age:\"))\n",
    "    if age < 12:\n",
    "        print(\"pay 7.0$\")\n",
    "    elif age <= 18:\n",
    "        print(\"pay 10$\")\n",
    "    else:\n",
    "        print(\"pay 12$\")\n",
    "else:\n",
    "    print(\"your are shorter for this ride, Please grow and come later.\")"
   ]
  }
 ],
 "metadata": {
  "kernelspec": {
   "display_name": "Python 3 (ipykernel)",
   "language": "python",
   "name": "python3"
  },
  "language_info": {
   "codemirror_mode": {
    "name": "ipython",
    "version": 3
   },
   "file_extension": ".py",
   "mimetype": "text/x-python",
   "name": "python",
   "nbconvert_exporter": "python",
   "pygments_lexer": "ipython3",
   "version": "3.11.3"
  }
 },
 "nbformat": 4,
 "nbformat_minor": 5
}
