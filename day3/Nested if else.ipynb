{
 "cells": [
  {
   "cell_type": "code",
   "execution_count": 1,
   "id": "da6681b8",
   "metadata": {},
   "outputs": [],
   "source": [
    "# if Condition:\n",
    "#     if another Condition:\n",
    "#         do this\n",
    "#     else:\n",
    "#         do this\n",
    "# else:\n",
    "#     do this"
   ]
  },
  {
   "cell_type": "code",
   "execution_count": 4,
   "id": "17079792",
   "metadata": {},
   "outputs": [
    {
     "name": "stdout",
     "output_type": "stream",
     "text": [
      "Welcome to the Rollercoster!\n",
      "Plese enter your Height : 120\n",
      "Your are eligible for this ride\n",
      "please enter your age:18\n",
      "pay 7.0$\n"
     ]
    }
   ],
   "source": [
    "print(\"Welcome to the Rollercoster!\")\n",
    "height = int(input(\"Plese enter your Height : \"))\n",
    "\n",
    "if height >= 120 :\n",
    "    print(\"Your are eligible for this ride\")\n",
    "    age = int(input(\"please enter your age:\"))\n",
    "    if age <=18:\n",
    "        print(\"pay 7.0$\")\n",
    "    else:\n",
    "        print(\"pay 12$\")\n",
    "else:\n",
    "    print(\"your are shorter for this ride, Please grow and come later.\")"
   ]
  },
  {
   "cell_type": "code",
   "execution_count": null,
   "id": "577a4d10",
   "metadata": {},
   "outputs": [],
   "source": []
  }
 ],
 "metadata": {
  "kernelspec": {
   "display_name": "Python 3 (ipykernel)",
   "language": "python",
   "name": "python3"
  },
  "language_info": {
   "codemirror_mode": {
    "name": "ipython",
    "version": 3
   },
   "file_extension": ".py",
   "mimetype": "text/x-python",
   "name": "python",
   "nbconvert_exporter": "python",
   "pygments_lexer": "ipython3",
   "version": "3.11.3"
  }
 },
 "nbformat": 4,
 "nbformat_minor": 5
}
