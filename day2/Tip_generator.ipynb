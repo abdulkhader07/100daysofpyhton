{
 "cells": [
  {
   "cell_type": "code",
   "execution_count": 1,
   "id": "8c4dcbd7",
   "metadata": {},
   "outputs": [
    {
     "name": "stdout",
     "output_type": "stream",
     "text": [
      "Welcome to the tip calculator.\n",
      "What was the total bill?\n",
      "> $550\n",
      "What percentage tip would you like to give? 10, 12, or 15?\n",
      "> 10\n",
      "How many people to split the bill?\n",
      "> 1\n",
      "Each person should pay: $605.0\n"
     ]
    }
   ],
   "source": [
    "# Tip Calculator\n",
    "\n",
    "# initialize the variables as empty strings, since input() returns strings\n",
    "base_bill = \"\"\n",
    "percentage = \"\"\n",
    "people = \"\"\n",
    "\n",
    "print(\"Welcome to the tip calculator.\")\n",
    "\n",
    "# get the base bill without tip\n",
    "while True:\n",
    "    print(\"What was the total bill?\")\n",
    "    base_bill = input(\"> $\")\n",
    "    # check if it can be converted to a float\n",
    "    try:\n",
    "        float(base_bill)\n",
    "        # check if it's not a negative number\n",
    "        # zero is fine, as they might be eating for free... not much sense asking for the other inputs then though\n",
    "        if float(base_bill) < 0:\n",
    "            print(\"The bill can't be negative. Please enter a valid amount.\")\n",
    "        # otherwise it should be fine\n",
    "        else:\n",
    "            break\n",
    "    # if not, ask again\n",
    "    except ValueError:\n",
    "        print(\"Please enter a valid amount.\")\n",
    "\n",
    "# get the percentage\n",
    "while True:\n",
    "    print(\"What percentage tip would you like to give? 10, 12, or 15?\")\n",
    "    percentage = input(\"> \")\n",
    "    # list of acceptable choices\n",
    "    choices_list = [\"10\", \"12\", \"15\"]\n",
    "    # make sure the input is one of them\n",
    "    if percentage not in choices_list:\n",
    "        print(\"Please enter 10, 12 or 15.\")\n",
    "    else:\n",
    "        break\n",
    "\n",
    "# get the number of people\n",
    "while True:\n",
    "    print(\"How many people to split the bill?\")\n",
    "    people = input(\"> \")\n",
    "    # make sure it's a non-zero natural number\n",
    "    if not people.isdigit() or people == \"0\":\n",
    "        print(\"Please enter a valid number of people (1,2,3, etc.)\")\n",
    "    else:\n",
    "        break\n",
    "\n",
    "# add the tip to the base bill\n",
    "total_bill = float(base_bill) * (1 + int(percentage) / 100)\n",
    "\n",
    "# calculate the split bill and round to 2 decimal places\n",
    "# since the number of people can't be zero, no need to worry about division by zero\n",
    "split_bill = round(total_bill / int(people), 2)\n",
    "\n",
    "# using a uniform message, even if there was just a single person\n",
    "print(f\"Each person should pay: ${split_bill}\")"
   ]
  },
  {
   "cell_type": "code",
   "execution_count": null,
   "id": "ca2dea85",
   "metadata": {},
   "outputs": [],
   "source": []
  }
 ],
 "metadata": {
  "kernelspec": {
   "display_name": "Python 3 (ipykernel)",
   "language": "python",
   "name": "python3"
  },
  "language_info": {
   "codemirror_mode": {
    "name": "ipython",
    "version": 3
   },
   "file_extension": ".py",
   "mimetype": "text/x-python",
   "name": "python",
   "nbconvert_exporter": "python",
   "pygments_lexer": "ipython3",
   "version": "3.10.9"
  }
 },
 "nbformat": 4,
 "nbformat_minor": 5
}
